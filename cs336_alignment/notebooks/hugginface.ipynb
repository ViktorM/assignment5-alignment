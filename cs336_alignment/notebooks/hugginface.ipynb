{
 "cells": [
  {
   "cell_type": "code",
   "execution_count": 1,
   "metadata": {},
   "outputs": [
    {
     "name": "stderr",
     "output_type": "stream",
     "text": [
      "You are attempting to use Flash Attention 2.0 with a model not initialized on GPU. Make sure to move the model to GPU after initializing it on CPU with `model.to('cuda')`.\n"
     ]
    },
    {
     "data": {
      "application/vnd.jupyter.widget-view+json": {
       "model_id": "782fa8e1e1124676997b62ae9dba203b",
       "version_major": 2,
       "version_minor": 0
      },
      "text/plain": [
       "generation_config.json:   0%|          | 0.00/138 [00:00<?, ?B/s]"
      ]
     },
     "metadata": {},
     "output_type": "display_data"
    },
    {
     "data": {
      "application/vnd.jupyter.widget-view+json": {
       "model_id": "8f6e75eb26cf4c6e8267cb0bf0cfae0e",
       "version_major": 2,
       "version_minor": 0
      },
      "text/plain": [
       "tokenizer_config.json:   0%|          | 0.00/7.32k [00:00<?, ?B/s]"
      ]
     },
     "metadata": {},
     "output_type": "display_data"
    },
    {
     "data": {
      "application/vnd.jupyter.widget-view+json": {
       "model_id": "0a0bcf5cf50f4d0b85e8c4edf0dc7b0f",
       "version_major": 2,
       "version_minor": 0
      },
      "text/plain": [
       "vocab.json:   0%|          | 0.00/2.78M [00:00<?, ?B/s]"
      ]
     },
     "metadata": {},
     "output_type": "display_data"
    },
    {
     "data": {
      "application/vnd.jupyter.widget-view+json": {
       "model_id": "6670faf89bcb4be1a862777876a596ae",
       "version_major": 2,
       "version_minor": 0
      },
      "text/plain": [
       "merges.txt:   0%|          | 0.00/1.67M [00:00<?, ?B/s]"
      ]
     },
     "metadata": {},
     "output_type": "display_data"
    },
    {
     "data": {
      "application/vnd.jupyter.widget-view+json": {
       "model_id": "43c90224d5a748cfa3df1b4b74ce2e4d",
       "version_major": 2,
       "version_minor": 0
      },
      "text/plain": [
       "tokenizer.json:   0%|          | 0.00/7.03M [00:00<?, ?B/s]"
      ]
     },
     "metadata": {},
     "output_type": "display_data"
    }
   ],
   "source": [
    "from transformers import AutoModelForCausalLM, AutoTokenizer\n",
    "import torch\n",
    "\n",
    "model_name = \"Qwen/Qwen2.5-Math-1.5B\"\n",
    "# save_directory = \"/data/a5-alignment/models/Qwen2.5-Math-1.5B\"\n",
    "save_directory = \"../data/models/Qwen2.5-Math-1.5B\"\n",
    "\n",
    "model = AutoModelForCausalLM.from_pretrained(\n",
    "    model_name,\n",
    "    torch_dtype=torch.bfloat16,\n",
    "    attn_implementation=\"flash_attention_2\",\n",
    ")\n",
    "tokenizer = AutoTokenizer.from_pretrained(model_name)"
   ]
  },
  {
   "cell_type": "code",
   "execution_count": 2,
   "metadata": {},
   "outputs": [
    {
     "data": {
      "text/plain": [
       "('../data/models/Qwen2.5-Math-1.5B/tokenizer_config.json',\n",
       " '../data/models/Qwen2.5-Math-1.5B/special_tokens_map.json',\n",
       " '../data/models/Qwen2.5-Math-1.5B/vocab.json',\n",
       " '../data/models/Qwen2.5-Math-1.5B/merges.txt',\n",
       " '../data/models/Qwen2.5-Math-1.5B/added_tokens.json',\n",
       " '../data/models/Qwen2.5-Math-1.5B/tokenizer.json')"
      ]
     },
     "execution_count": 2,
     "metadata": {},
     "output_type": "execute_result"
    }
   ],
   "source": [
    "model.save_pretrained(save_directory)\n",
    "tokenizer.save_pretrained(save_directory)"
   ]
  },
  {
   "cell_type": "code",
   "execution_count": 7,
   "metadata": {},
   "outputs": [],
   "source": [
    "# Check if CUDA is available\n",
    "if torch.cuda.is_available():\n",
    "    model = model.to(\"cuda\")\n",
    "else:\n",
    "    print(\"CUDA not available!\")"
   ]
  },
  {
   "cell_type": "code",
   "execution_count": 8,
   "metadata": {},
   "outputs": [
    {
     "name": "stderr",
     "output_type": "stream",
     "text": [
      "Setting `pad_token_id` to `eos_token_id`:151643 for open-end generation.\n"
     ]
    },
    {
     "name": "stdout",
     "output_type": "stream",
     "text": [
      "Solve for x: 5x + 10 = 35. To solve the equation \\(5x + 10 = 35\\) for \\(x\\), we will follow these steps:\n",
      "\n",
      "1. **Isolate the term with the variable \\(x\\)** by subtracting 10 from both sides\n"
     ]
    }
   ],
   "source": [
    "prompt = \"Solve for x: 5x + 10 = 35.\"\n",
    "inputs = tokenizer(prompt, return_tensors=\"pt\").to(model.device)\n",
    "\n",
    "outputs = model.generate(**inputs, max_new_tokens=50)\n",
    "result = tokenizer.decode(outputs[0], skip_special_tokens=True)\n",
    "\n",
    "print(result)\n"
   ]
  },
  {
   "cell_type": "code",
   "execution_count": 15,
   "metadata": {},
   "outputs": [
    {
     "name": "stderr",
     "output_type": "stream",
     "text": [
      "Setting `pad_token_id` to `eos_token_id`:151643 for open-end generation.\n"
     ]
    },
    {
     "name": "stdout",
     "output_type": "stream",
     "text": [
      "Solve for x: 4x^2 - 10x + 35 = 0. To solve the quadratic equation \\(4x^2 - 10x + 35 = 0\\), we will use the quadratic formula, which is given by:\n",
      "\n",
      "\\[\n",
      "x = \\frac{-b \\pm \\sqrt{b^2 - 4ac}}{2a}\n",
      "\\]\n",
      "\n",
      "Here, the coefficients \\(a\\), \\(b\\), and \\(c\\) are taken from the standard form of a quadratic equation \\(ax^2 + bx + c = 0\\). For our equation \\(4x^2 - 10x + 35 = 0\\), we have:\n",
      "\n",
      "\\[\n",
      "a = 4, \\quad b = -10, \\quad c = 35\n",
      "\\]\n",
      "\n",
      "First, we calculate the discriminant \\(\\Delta\\), which is given by:\n",
      "\n",
      "\\[\n",
      "\\Delta = b^2 - 4ac\n",
      "\\]\n",
      "\n",
      "Substituting the values of \\(a\\), \\(b\\), and \\(c\\):\n",
      "\n",
      "\\[\n",
      "\\Delta = (-10)^2 - 4 \\cdot 4 \\cdot 35\n",
      "\\]\n",
      "\n",
      "\\[\n",
      "\\Delta = 100 - 560\n",
      "\\]\n",
      "\n",
      "\\[\n",
      "\\Delta = -460\n",
      "\\]\n",
      "\n",
      "Since the discriminant \\(\\Delta\\) is negative, the quadratic equation has no real solutions. Instead, it has two complex solutions. We proceed by substituting \\(\\Delta\\) back into the quadratic formula:\n",
      "\n",
      "\\[\n",
      "x = \\frac{-b \\pm \\sqrt{\\Delta}}{2a}\n",
      "\\]\n",
      "\n",
      "\\[\n",
      "x = \\frac{-(-10) \\pm \\sqrt{-460}}{2 \\cdot 4}\n",
      "\\]\n",
      "\n",
      "\\[\n",
      "x = \\frac{10 \\pm \\sqrt{-460}}{8}\n",
      "\\]\n",
      "\n",
      "We can simplify \\(\\sqrt{-460}\\) using the imaginary unit \\(i\\), where \\(i = \\sqrt{-1}\\):\n",
      "\n",
      "\\[\n",
      "\\sqrt{-460} = \\sqrt{460} \\cdot i\n",
      "\\]\n",
      "\n",
      "\\[\n",
      "\\sqrt{460} = \\sqrt{4 \\cdot 115} = 2\\sqrt{115}\n",
      "\\]\n",
      "\n",
      "Thus:\n",
      "\n",
      "\\[\n",
      "\\sqrt{-460} = 2\\sqrt{115} \\cdot i\n",
      "\\]\n",
      "\n",
      "Substituting this back into the quadratic formula:\n",
      "\n",
      "\\[\n",
      "x = \\frac{10 \\pm 2\\sqrt{115}i}{8}\n",
      "\\]\n",
      "\n",
      "We can simplify the fraction by dividing both the real and imaginary parts by 2:\n",
      "\n",
      "\\[\n",
      "x = \\frac{10}{8} \\pm \\frac{2\\sqrt{115}i}{8}\n",
      "\\]\n",
      "\n",
      "\\[\n",
      "x = \\frac{5}{4} \\pm \\frac{\\sqrt{115}i}{4}\n",
      "\\]\n",
      "\n",
      "Therefore, the solutions to the quadratic equation \\(4x^2 - 10x + 35 = 0\\) are:\n",
      "\n",
      "\\[\n",
      "x = \\frac{5}{4} + \\frac{\\sqrt{115}i}{4} \\quad \\text{and} \\quad x = \\frac{5}{4} - \\frac{\\sqrt{115}i}{4}\n",
      "\\]\n",
      "\n",
      "In box form, the solutions are:\n",
      "\n",
      "\\[\n",
      "\\boxed{\\frac{5}{4} + \\frac{\\sqrt{115}i}{4}, \\frac{5}{4} - \\frac{\\sqrt{115}i}{4}}\n",
      "\\]\n"
     ]
    }
   ],
   "source": [
    "prompt = \"Solve for x: 4x^2 - 10x + 35 = 0.\"\n",
    "inputs = tokenizer(prompt, return_tensors=\"pt\").to(model.device)\n",
    "\n",
    "outputs = model.generate(**inputs, max_new_tokens=2000)\n",
    "result = tokenizer.decode(outputs[0], skip_special_tokens=True)\n",
    "\n",
    "print(result)"
   ]
  },
  {
   "cell_type": "code",
   "execution_count": 20,
   "metadata": {},
   "outputs": [],
   "source": [
    "import regex as re\n",
    "\n",
    "def extract_boxed_answer(text):\n",
    "    match = re.search(r'\\\\boxed{((?:[^{}]+|{(?1)})*)}', text, re.DOTALL)\n",
    "    return match.group(1).strip() if match else None"
   ]
  },
  {
   "cell_type": "code",
   "execution_count": 21,
   "metadata": {},
   "outputs": [
    {
     "name": "stdout",
     "output_type": "stream",
     "text": [
      "\\frac{5}{4} + \\frac{\\sqrt{115}i}{4}, \\frac{5}{4} - \\frac{\\sqrt{115}i}{4}\n"
     ]
    }
   ],
   "source": [
    "answer = extract_boxed_answer(result)\n",
    "print(answer)"
   ]
  },
  {
   "cell_type": "markdown",
   "metadata": {},
   "source": [
    "Solve for x: 4x^2 - 10x + 35 = 0. To solve the quadratic equation \\(4x^2 - 10x + 35 = 0\\), we will use the quadratic formula, which is given by:\n",
    "\n",
    "\\[\n",
    "x = \\frac{-b \\pm \\sqrt{b^2 - 4ac}}{2a}\n",
    "\\]\n",
    "\n",
    "Here, the coefficients \\(a\\), \\(b\\), and \\(c\\) are taken from the standard form of a quadratic equation \\(ax^2 + bx + c = 0\\). For our equation \\(4x^2 - 10x + 35 = 0\\), we have:\n",
    "\n",
    "\\[\n",
    "a = 4, \\quad b = -10, \\quad c = 35\n",
    "\\]\n",
    "\n",
    "First, we calculate the discriminant \\(\\Delta\\), which is given by:\n",
    "\n",
    "\\[\n",
    "\\Delta = b^2 - 4ac\n",
    "\\]\n",
    "\n",
    "Substituting the values of \\(a\\), \\(b\\), and \\(c\\):\n",
    "\n",
    "\\[\n",
    "\\Delta = (-10)^2 - 4 \\cdot 4 \\cdot 35\n",
    "\\]\n",
    "\n",
    "\\[\n",
    "\\Delta = 100 - 560\n",
    "\\]\n",
    "\n",
    "\\[\n",
    "\\Delta = -460\n",
    "\\]\n",
    "\n",
    "Since the discriminant \\(\\Delta\\) is negative, the quadratic equation has no real solutions. Instead, it has two complex solutions. We proceed by substituting \\(\\Delta\\) back into the quadratic formula:\n",
    "\n",
    "\\[\n",
    "x = \\frac{-b \\pm \\sqrt{\\Delta}}{2a}\n",
    "\\]\n",
    "\n",
    "\\[\n",
    "x = \\frac{-(-10) \\pm \\sqrt{-460}}{2 \\cdot 4}\n",
    "\\]\n",
    "\n",
    "\\[\n",
    "x = \\frac{10 \\pm \\sqrt{-460}}{8}\n",
    "\\]\n",
    "\n",
    "We can simplify \\(\\sqrt{-460}\\) using the imaginary unit \\(i\\), where \\(i = \\sqrt{-1}\\):\n",
    "\n",
    "\\[\n",
    "\\sqrt{-460} = \\sqrt{460} \\cdot i\n",
    "\\]\n",
    "\n",
    "\\[\n",
    "\\sqrt{460} = \\sqrt{4 \\cdot 115} = 2\\sqrt{115}\n",
    "\\]\n",
    "\n",
    "Thus:\n",
    "\n",
    "\\[\n",
    "\\sqrt{-460} = 2\\sqrt{115} \\cdot i\n",
    "\\]\n",
    "\n",
    "Substituting this back into the quadratic formula:\n",
    "\n",
    "\\[\n",
    "x = \\frac{10 \\pm 2\\sqrt{115}i}{8}\n",
    "\\]\n",
    "\n",
    "We can simplify the fraction by dividing both the real and imaginary parts by 2:\n",
    "\n",
    "\\[\n",
    "x = \\frac{10}{8} \\pm \\frac{2\\sqrt{115}i}{8}\n",
    "\\]\n",
    "\n",
    "\\[\n",
    "x = \\frac{5}{4} \\pm \\frac{\\sqrt{115}i}{4}\n",
    "\\]\n",
    "\n",
    "Therefore, the solutions to the quadratic equation \\(4x^2 - 10x + 35 = 0\\) are:\n",
    "\n",
    "\\[\n",
    "x = \\frac{5}{4} + \\frac{\\sqrt{115}i}{4} \\quad \\text{and} \\quad x = \\frac{5}{4} - \\frac{\\sqrt{115}i}{4}\n",
    "\\]\n",
    "\n",
    "In box form, the solutions are:\n",
    "\n",
    "\\[\n",
    "\\boxed{\\frac{5}{4} + \\frac{\\sqrt{115}i}{4}, \\frac{5}{4} - \\frac{\\sqrt{115}i}{4}}\n",
    "\\]\n"
   ]
  }
 ],
 "metadata": {
  "kernelspec": {
   "display_name": ".venv",
   "language": "python",
   "name": "python3"
  },
  "language_info": {
   "codemirror_mode": {
    "name": "ipython",
    "version": 3
   },
   "file_extension": ".py",
   "mimetype": "text/x-python",
   "name": "python",
   "nbconvert_exporter": "python",
   "pygments_lexer": "ipython3",
   "version": "3.12.3"
  }
 },
 "nbformat": 4,
 "nbformat_minor": 2
}
